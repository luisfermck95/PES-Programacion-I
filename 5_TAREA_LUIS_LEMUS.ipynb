{
 "cells": [
  {
   "cell_type": "markdown",
   "metadata": {},
   "source": [
    "# Tarea #6\n",
    "**Programacion I**"
   ]
  },
  {
   "cell_type": "markdown",
   "metadata": {},
   "source": [
    "## Ejercicio 1\n",
    "\n",
    "Ejecute el siguiente programa y explique su procedimiento y el porqué del resultado. "
   ]
  },
  {
   "cell_type": "code",
   "execution_count": 2,
   "metadata": {},
   "outputs": [
    {
     "ename": "RecursionError",
     "evalue": "maximum recursion depth exceeded",
     "output_type": "error",
     "traceback": [
      "\u001b[1;31m---------------------------------------------------------------------------\u001b[0m",
      "\u001b[1;31mRecursionError\u001b[0m                            Traceback (most recent call last)",
      "\u001b[1;32m<ipython-input-2-00d266b39dc6>\u001b[0m in \u001b[0;36m<module>\u001b[1;34m\u001b[0m\n\u001b[0;32m      2\u001b[0m     \u001b[0mf\u001b[0m\u001b[1;33m(\u001b[0m\u001b[0mf\u001b[0m\u001b[1;33m)\u001b[0m\u001b[1;33m\u001b[0m\u001b[1;33m\u001b[0m\u001b[0m\n\u001b[0;32m      3\u001b[0m \u001b[1;33m\u001b[0m\u001b[0m\n\u001b[1;32m----> 4\u001b[1;33m \u001b[0mRecusion\u001b[0m\u001b[1;33m(\u001b[0m\u001b[0mRecusion\u001b[0m\u001b[1;33m)\u001b[0m\u001b[1;33m\u001b[0m\u001b[1;33m\u001b[0m\u001b[0m\n\u001b[0m",
      "\u001b[1;32m<ipython-input-2-00d266b39dc6>\u001b[0m in \u001b[0;36mRecusion\u001b[1;34m(f)\u001b[0m\n\u001b[0;32m      1\u001b[0m \u001b[1;32mdef\u001b[0m \u001b[0mRecusion\u001b[0m\u001b[1;33m(\u001b[0m\u001b[0mf\u001b[0m\u001b[1;33m)\u001b[0m\u001b[1;33m:\u001b[0m\u001b[1;33m\u001b[0m\u001b[1;33m\u001b[0m\u001b[0m\n\u001b[1;32m----> 2\u001b[1;33m     \u001b[0mf\u001b[0m\u001b[1;33m(\u001b[0m\u001b[0mf\u001b[0m\u001b[1;33m)\u001b[0m\u001b[1;33m\u001b[0m\u001b[1;33m\u001b[0m\u001b[0m\n\u001b[0m\u001b[0;32m      3\u001b[0m \u001b[1;33m\u001b[0m\u001b[0m\n\u001b[0;32m      4\u001b[0m \u001b[0mRecusion\u001b[0m\u001b[1;33m(\u001b[0m\u001b[0mRecusion\u001b[0m\u001b[1;33m)\u001b[0m\u001b[1;33m\u001b[0m\u001b[1;33m\u001b[0m\u001b[0m\n",
      "... last 1 frames repeated, from the frame below ...\n",
      "\u001b[1;32m<ipython-input-2-00d266b39dc6>\u001b[0m in \u001b[0;36mRecusion\u001b[1;34m(f)\u001b[0m\n\u001b[0;32m      1\u001b[0m \u001b[1;32mdef\u001b[0m \u001b[0mRecusion\u001b[0m\u001b[1;33m(\u001b[0m\u001b[0mf\u001b[0m\u001b[1;33m)\u001b[0m\u001b[1;33m:\u001b[0m\u001b[1;33m\u001b[0m\u001b[1;33m\u001b[0m\u001b[0m\n\u001b[1;32m----> 2\u001b[1;33m     \u001b[0mf\u001b[0m\u001b[1;33m(\u001b[0m\u001b[0mf\u001b[0m\u001b[1;33m)\u001b[0m\u001b[1;33m\u001b[0m\u001b[1;33m\u001b[0m\u001b[0m\n\u001b[0m\u001b[0;32m      3\u001b[0m \u001b[1;33m\u001b[0m\u001b[0m\n\u001b[0;32m      4\u001b[0m \u001b[0mRecusion\u001b[0m\u001b[1;33m(\u001b[0m\u001b[0mRecusion\u001b[0m\u001b[1;33m)\u001b[0m\u001b[1;33m\u001b[0m\u001b[1;33m\u001b[0m\u001b[0m\n",
      "\u001b[1;31mRecursionError\u001b[0m: maximum recursion depth exceeded"
     ]
    }
   ],
   "source": [
    "def Recusion(f):\n",
    "    f(f)\n",
    "    \n",
    "Recusion(Recusion)"
   ]
  },
  {
   "cell_type": "code",
   "execution_count": null,
   "metadata": {},
   "outputs": [],
   "source": [
    "#Se definió una función Recusion con parámetro f. Al evaluar una función sobre sí misma, hacer una composición\n",
    "#sobre ella misma, no hay límites para la recusión se detenga y es por ello que se excede de la capacidad. "
   ]
  },
  {
   "cell_type": "markdown",
   "metadata": {},
   "source": [
    "## Ejercicio 2\n",
    "\n",
    "Vea el siguiente vídeo: <https://www.youtube.com/watch?v=qxRW5pDT2o4>  \n",
    "\n",
    "Complete el código siguiente para encontrar el máximo común divisor dado dos números enteros. \n",
    "\n",
    "Las condiciones básicas, son:"
   ]
  },
  {
   "cell_type": "markdown",
   "metadata": {},
   "source": [
    "Para dos números $a$ y $b$, tal que $b\\leq a$:\n",
    "* $mcd(a,0) = a$\n",
    "* Si $b\\vert a$ (divida enteramente), entonces $mcd(a,b)=b$\n",
    "* En otro caso, $mcd(a,b) = mcd(b,a \\,mod \\, b)$\n",
    "\n"
   ]
  },
  {
   "cell_type": "code",
   "execution_count": 145,
   "metadata": {},
   "outputs": [],
   "source": [
    "def mcd(a,b):\n",
    "    '''Donde a >= b'''\n",
    "    \n",
    "    if b==0:#Se verifica si hay un cero entre los divisores; en caso sea así devuleve a.  \n",
    "        return a\n",
    "    elif a % b==0: #Si entre los números, no hay un resdiuo, uno es divisior del otro por lo que devuelve b \n",
    "        return b\n",
    "    else: #En caso contrario, se el mod del divisior y el residuo entre a y b \n",
    "        return mcd(b,a%b)\n",
    "    "
   ]
  },
  {
   "cell_type": "code",
   "execution_count": 146,
   "metadata": {},
   "outputs": [
    {
     "data": {
      "text/plain": [
       "6"
      ]
     },
     "execution_count": 146,
     "metadata": {},
     "output_type": "execute_result"
    }
   ],
   "source": [
    "mcd(12,6)"
   ]
  },
  {
   "cell_type": "code",
   "execution_count": 147,
   "metadata": {},
   "outputs": [
    {
     "data": {
      "text/plain": [
       "6"
      ]
     },
     "execution_count": 147,
     "metadata": {},
     "output_type": "execute_result"
    }
   ],
   "source": [
    "mcd(6,6)"
   ]
  },
  {
   "cell_type": "code",
   "execution_count": 148,
   "metadata": {},
   "outputs": [
    {
     "data": {
      "text/plain": [
       "1"
      ]
     },
     "execution_count": 148,
     "metadata": {},
     "output_type": "execute_result"
    }
   ],
   "source": [
    "mcd(4,5)"
   ]
  },
  {
   "cell_type": "code",
   "execution_count": 149,
   "metadata": {},
   "outputs": [
    {
     "data": {
      "text/plain": [
       "2"
      ]
     },
     "execution_count": 149,
     "metadata": {},
     "output_type": "execute_result"
    }
   ],
   "source": [
    "mcd(0,2)"
   ]
  },
  {
   "cell_type": "code",
   "execution_count": 150,
   "metadata": {},
   "outputs": [
    {
     "data": {
      "text/plain": [
       "2"
      ]
     },
     "execution_count": 150,
     "metadata": {},
     "output_type": "execute_result"
    }
   ],
   "source": [
    "mcd(2,0)"
   ]
  },
  {
   "cell_type": "markdown",
   "metadata": {},
   "source": [
    "## Ejercicio 3\n",
    "\n",
    "Implemente un algoritmo recursivo para obtener la parte entera de la división entre dos números enteros. (Pista: Asocie con la resta)."
   ]
  },
  {
   "cell_type": "code",
   "execution_count": 128,
   "metadata": {},
   "outputs": [],
   "source": [
    "def recursive_division (a, b):\n",
    "    if b == 0: #si en dado caso se pone como argumento un 0, se indica al usuario que no se puede dividir por cero. \n",
    "        return (\"Cannot divide by zero\")\n",
    "    elif a < b:#si el dividendo es menor que el divisor devolverá un cero\n",
    "        return 0\n",
    "    else: #En cualquier otro caso se realiza la división recursiva. Hasta que a-b sea 0 irá gradualmente sumando unos. \n",
    "        x = recursive_division (a - b, b)\n",
    "        return x+1\n",
    "        "
   ]
  },
  {
   "cell_type": "code",
   "execution_count": 129,
   "metadata": {},
   "outputs": [
    {
     "data": {
      "text/plain": [
       "2"
      ]
     },
     "execution_count": 129,
     "metadata": {},
     "output_type": "execute_result"
    }
   ],
   "source": [
    "recursive_division(6,3)"
   ]
  },
  {
   "cell_type": "code",
   "execution_count": 130,
   "metadata": {},
   "outputs": [
    {
     "data": {
      "text/plain": [
       "'Cannot divide by zero'"
      ]
     },
     "execution_count": 130,
     "metadata": {},
     "output_type": "execute_result"
    }
   ],
   "source": [
    "recursive_division(6,0)"
   ]
  },
  {
   "cell_type": "code",
   "execution_count": 131,
   "metadata": {},
   "outputs": [
    {
     "data": {
      "text/plain": [
       "0"
      ]
     },
     "execution_count": 131,
     "metadata": {},
     "output_type": "execute_result"
    }
   ],
   "source": [
    "recursive_division(1,2)"
   ]
  },
  {
   "cell_type": "code",
   "execution_count": 132,
   "metadata": {},
   "outputs": [
    {
     "data": {
      "text/plain": [
       "1"
      ]
     },
     "execution_count": 132,
     "metadata": {},
     "output_type": "execute_result"
    }
   ],
   "source": [
    "recursive_division(6,6)"
   ]
  },
  {
   "cell_type": "markdown",
   "metadata": {},
   "source": [
    "# Ejercicio 4\n",
    "\n",
    "En el ejemplo de clase (Coordinate), modifique el método constructor para que verifique que los argumentos $x$ y $y$ sean flotantes.  "
   ]
  },
  {
   "cell_type": "code",
   "execution_count": 66,
   "metadata": {},
   "outputs": [],
   "source": [
    "class Coordinate(object):\n",
    "    # Atributos (datos, funciones)\n",
    "    # ...\n",
    "    \n",
    "    # Método constructor\n",
    "    def __init__(self, x, y):\n",
    "        # ¿Cómo queremos inicializar el objeto? #Estamos verificando que si el usuario no ingresa especificamente\n",
    "        #el tipo de objeto indicado, le indicará un error, ya que deben ser floats lo que se utilicen. \n",
    "        assert type(x) == float and type(y) == float, \"floats not used\"\n",
    "        self.x = x\n",
    "        self.y = y\n",
    "        \n",
    "    # Método de distancia\n",
    "    # Calcula la distancia entre este objeto (self) y \n",
    "    # otro objeto Coordinate, denominado other\n",
    "    def distance(self, other):\n",
    "        x_sq = (self.x - other.x)**2\n",
    "        y_sq = (self.y - other.y)**2\n",
    "        return (x_sq + y_sq)**0.5\n",
    "    \n",
    "    # Método de impresión\n",
    "    def __str__(self):\n",
    "        return \"Objeto Coordinate <%0.2f, %0.2f>\" % (self.x, self.y)\n",
    "    \n",
    "    # Método para sumar coordenadas\n",
    "    def __add__(self, other):\n",
    "        res_x = self.x + other.x\n",
    "        res_y = self.y + other.y\n",
    "        return Coordinate(res_x, res_y)\n",
    "    \n",
    "    def __len__(self):\n",
    "        return 2"
   ]
  },
  {
   "cell_type": "code",
   "execution_count": 67,
   "metadata": {},
   "outputs": [
    {
     "ename": "AssertionError",
     "evalue": "floats not used",
     "output_type": "error",
     "traceback": [
      "\u001b[1;31m---------------------------------------------------------------------------\u001b[0m",
      "\u001b[1;31mAssertionError\u001b[0m                            Traceback (most recent call last)",
      "\u001b[1;32m<ipython-input-67-569077919da8>\u001b[0m in \u001b[0;36m<module>\u001b[1;34m\u001b[0m\n\u001b[1;32m----> 1\u001b[1;33m \u001b[0mcoordinate1\u001b[0m\u001b[1;33m=\u001b[0m \u001b[0mCoordinate\u001b[0m\u001b[1;33m(\u001b[0m\u001b[1;36m0\u001b[0m\u001b[1;33m,\u001b[0m\u001b[1;36m0\u001b[0m\u001b[1;33m)\u001b[0m\u001b[1;33m\u001b[0m\u001b[1;33m\u001b[0m\u001b[0m\n\u001b[0m",
      "\u001b[1;32m<ipython-input-66-f020890d6245>\u001b[0m in \u001b[0;36m__init__\u001b[1;34m(self, x, y)\u001b[0m\n\u001b[0;32m      6\u001b[0m     \u001b[1;32mdef\u001b[0m \u001b[0m__init__\u001b[0m\u001b[1;33m(\u001b[0m\u001b[0mself\u001b[0m\u001b[1;33m,\u001b[0m \u001b[0mx\u001b[0m\u001b[1;33m,\u001b[0m \u001b[0my\u001b[0m\u001b[1;33m)\u001b[0m\u001b[1;33m:\u001b[0m\u001b[1;33m\u001b[0m\u001b[1;33m\u001b[0m\u001b[0m\n\u001b[0;32m      7\u001b[0m         \u001b[1;31m# ¿Cómo queremos inicializar el objeto?\u001b[0m\u001b[1;33m\u001b[0m\u001b[1;33m\u001b[0m\u001b[1;33m\u001b[0m\u001b[0m\n\u001b[1;32m----> 8\u001b[1;33m         \u001b[1;32massert\u001b[0m \u001b[0mtype\u001b[0m\u001b[1;33m(\u001b[0m\u001b[0mx\u001b[0m\u001b[1;33m)\u001b[0m \u001b[1;33m==\u001b[0m \u001b[0mfloat\u001b[0m \u001b[1;32mand\u001b[0m \u001b[0mtype\u001b[0m\u001b[1;33m(\u001b[0m\u001b[0my\u001b[0m\u001b[1;33m)\u001b[0m \u001b[1;33m==\u001b[0m \u001b[0mfloat\u001b[0m\u001b[1;33m,\u001b[0m \u001b[1;34m\"floats not used\"\u001b[0m\u001b[1;33m\u001b[0m\u001b[1;33m\u001b[0m\u001b[0m\n\u001b[0m\u001b[0;32m      9\u001b[0m         \u001b[0mself\u001b[0m\u001b[1;33m.\u001b[0m\u001b[0mx\u001b[0m \u001b[1;33m=\u001b[0m \u001b[0mx\u001b[0m\u001b[1;33m\u001b[0m\u001b[1;33m\u001b[0m\u001b[0m\n\u001b[0;32m     10\u001b[0m         \u001b[0mself\u001b[0m\u001b[1;33m.\u001b[0m\u001b[0my\u001b[0m \u001b[1;33m=\u001b[0m \u001b[0my\u001b[0m\u001b[1;33m\u001b[0m\u001b[1;33m\u001b[0m\u001b[0m\n",
      "\u001b[1;31mAssertionError\u001b[0m: floats not used"
     ]
    }
   ],
   "source": [
    "coordinate1= Coordinate(0,0)"
   ]
  },
  {
   "cell_type": "markdown",
   "metadata": {},
   "source": [
    "# Ejercicio 5\n",
    "\n",
    "1. Cree una clase llamada ``Persona``, que asigne una cadena a la propiedad ``nombre`` y un número entero a la propiedad ``edad``. Al imprimir el objeto, debe concatenar tanto el nombre con la edad. \n",
    "2. A la clase anterior, añada un método para sumar dos objetos de tipo ``Persona``. El resultado debe ser ambos nombres concatenados y la suma de ambas edades.\n",
    "3. Modifique la clase para que el objeto tenga otra propiedad llamada ``altura``. Cuando se solicite la longitud del objeto, muestre la altura. También debe modificar el método de impresión para que muestre la altura. ¿Qué pasa con el método de suma?\n",
    "\n"
   ]
  },
  {
   "cell_type": "code",
   "execution_count": 215,
   "metadata": {},
   "outputs": [],
   "source": [
    "#Ejercicio 5.1 y 5.2\n",
    "class Persona(object): #Se crea la un nuevo objeto denominado persona\n",
    "    def __init__(self,name, age): #Para inicializar el objeto se le dan dos atribuciones: nombre y edad \n",
    "        assert type(name) == str and type(age) == int\n",
    "        self.age = age\n",
    "        self.name = name\n",
    "        \n",
    "    def __str__(self):#Al momento de imprimir a una persona queremos que nos devuelva el nombre y la edad.\n",
    "        #Como la edad es un entero, se convierte a cadena para poder concatenar el nombre con la edad. \n",
    "        return self.name+\" \"+str(self.age)\n",
    "  \n",
    "    \n",
    "    def __add__(self,other): #Se define la operación de suma entre el objeto de personas \n",
    "        names = self.name+\" y \"+other.name\n",
    "        ages = str(self.age+other.age)\n",
    "        return (names,ages)\n",
    "         "
   ]
  },
  {
   "cell_type": "code",
   "execution_count": 216,
   "metadata": {},
   "outputs": [],
   "source": [
    "p1=Persona(\"Luis\", 24)"
   ]
  },
  {
   "cell_type": "code",
   "execution_count": 217,
   "metadata": {},
   "outputs": [
    {
     "name": "stdout",
     "output_type": "stream",
     "text": [
      "Luis 24\n"
     ]
    }
   ],
   "source": [
    "print(p1)"
   ]
  },
  {
   "cell_type": "code",
   "execution_count": 218,
   "metadata": {},
   "outputs": [
    {
     "name": "stdout",
     "output_type": "stream",
     "text": [
      "Marianna 23\n"
     ]
    }
   ],
   "source": [
    "p2=Persona(\"Marianna\",23)\n",
    "print(p2)"
   ]
  },
  {
   "cell_type": "code",
   "execution_count": 219,
   "metadata": {},
   "outputs": [
    {
     "data": {
      "text/plain": [
       "('Luis y Marianna', '47')"
      ]
     },
     "execution_count": 219,
     "metadata": {},
     "output_type": "execute_result"
    }
   ],
   "source": [
    "p1+p2"
   ]
  },
  {
   "cell_type": "code",
   "execution_count": 244,
   "metadata": {},
   "outputs": [],
   "source": [
    "#Ejercicio 5.3\n",
    "class Persona(object):\n",
    "    def __init__(self,name, age, height):#Ahora el objeto se inicializa con una característica más: altura que debe\n",
    "        #ser float \n",
    "        assert type(name) == str and type(age) == int and type(height) == float\n",
    "        self.age = age\n",
    "        self.name = name\n",
    "        self.height = height\n",
    "        \n",
    "    def __str__(self):#Ahora al imprimir a la persona se debe concatenar la altura también \n",
    "        return self.name+\" \"+str(self.age)+\" \"+str(self.height)\n",
    "  \n",
    "    \n",
    "    def __add__(self,other):#Se agrega a la operación de sumas, la suma de las alturas. \n",
    "        names = self.name+\" y \"+other.name\n",
    "        ages = str(self.age+other.age)\n",
    "        heights = str(self.height+other.height)\n",
    "        return (names,ages,heights)\n",
    "    \n",
    "    def __len__(self):#al pedir la longitud del objeto, devolverá el entero de la altura ingresada\n",
    "        return int(self.height)"
   ]
  },
  {
   "cell_type": "code",
   "execution_count": 245,
   "metadata": {},
   "outputs": [
    {
     "name": "stdout",
     "output_type": "stream",
     "text": [
      "Luis 24 1.92\n"
     ]
    }
   ],
   "source": [
    "p1= Persona(\"Luis\", 24, 1.92)\n",
    "print(p1)"
   ]
  },
  {
   "cell_type": "code",
   "execution_count": 246,
   "metadata": {},
   "outputs": [
    {
     "data": {
      "text/plain": [
       "1"
      ]
     },
     "execution_count": 246,
     "metadata": {},
     "output_type": "execute_result"
    }
   ],
   "source": [
    "len(p1)"
   ]
  },
  {
   "cell_type": "code",
   "execution_count": 247,
   "metadata": {},
   "outputs": [
    {
     "name": "stdout",
     "output_type": "stream",
     "text": [
      "Marianna 23 1.58\n"
     ]
    }
   ],
   "source": [
    "p2= Persona(\"Marianna\", 23, 1.58)\n",
    "print(p2)"
   ]
  },
  {
   "cell_type": "code",
   "execution_count": 248,
   "metadata": {},
   "outputs": [
    {
     "data": {
      "text/plain": [
       "('Luis y Marianna', '47', '3.5')"
      ]
     },
     "execution_count": 248,
     "metadata": {},
     "output_type": "execute_result"
    }
   ],
   "source": [
    "p1+p2"
   ]
  },
  {
   "cell_type": "code",
   "execution_count": null,
   "metadata": {},
   "outputs": [],
   "source": [
    "#Si a la suma no se incorpora la altura, únicamente imprimirá los nombres juntos y la suma de la edades pero\n",
    "#no devolverá la suma de las alturas. "
   ]
  },
  {
   "cell_type": "markdown",
   "metadata": {},
   "source": [
    "# TAREA CHANG"
   ]
  },
  {
   "cell_type": "code",
   "execution_count": 249,
   "metadata": {},
   "outputs": [],
   "source": [
    "#Clase aplicando Microeconomía\n",
    "class Canasta(object):\n",
    "    \n",
    "    def __init__(self,cerveza,ocio,ceviche):\n",
    "        # Agregar para que reciba cantidad de cerveza, ocio y ceviche\n",
    "        self.cerveza = cerveza\n",
    "        self.ocio = ocio\n",
    "        self.ceviche = ceviche\n",
    "        \n",
    "    def utilidad(self):\n",
    "        u =(self.cerveza**0.3)*(self.ocio**0.6)*(self.ceviche**0.1)\n",
    "        return u\n",
    "    \n",
    "    def __str__(self):\n",
    "        return \"Canasta (cerveza=%d, ocio=%d, ceviche=%d)\" % (self.cerveza, self.ocio, self.ceviche)\n",
    "    \n",
    "    def __eq__(self, other):\n",
    "        # Cómo saber si una canasta es indiferente a otra\n",
    "        # Devuelve True si self genera la misma utilidad\n",
    "        # que la caa other, False en caso contrario\n",
    "        u1=Canasta.utilidad(self)\n",
    "        u2=Canasta.utilidad(other)\n",
    "        return \"Las canastas réportan la misma utilidad = %s\" % (u1==u2)\n",
    "        \n",
    "    def __lt__(self, other):\n",
    "        u1=Canasta.utilidad(self)\n",
    "        u2=Canasta.utilidad(other)\n",
    "        if u1 > u2:\n",
    "            return \"La canasta preferida es =%s\" % self \n",
    "        if u2 > u1:\n",
    "            return \"La canasta preferida es =%s\" % other"
   ]
  },
  {
   "cell_type": "code",
   "execution_count": 250,
   "metadata": {},
   "outputs": [],
   "source": [
    "basket1= Canasta(1,2,3)\n",
    "basket2= Canasta(1,2,3)\n",
    "basket3= Canasta(2,2,2)"
   ]
  },
  {
   "cell_type": "code",
   "execution_count": 251,
   "metadata": {},
   "outputs": [
    {
     "data": {
      "text/plain": [
       "1"
      ]
     },
     "execution_count": 251,
     "metadata": {},
     "output_type": "execute_result"
    }
   ],
   "source": [
    "basket1.cerveza"
   ]
  },
  {
   "cell_type": "code",
   "execution_count": 252,
   "metadata": {},
   "outputs": [
    {
     "data": {
      "text/plain": [
       "3"
      ]
     },
     "execution_count": 252,
     "metadata": {},
     "output_type": "execute_result"
    }
   ],
   "source": [
    "basket2.ceviche"
   ]
  },
  {
   "cell_type": "code",
   "execution_count": 253,
   "metadata": {},
   "outputs": [
    {
     "data": {
      "text/plain": [
       "<bound method Canasta.utilidad of <__main__.Canasta object at 0x00000185FC0763C8>>"
      ]
     },
     "execution_count": 253,
     "metadata": {},
     "output_type": "execute_result"
    }
   ],
   "source": [
    "basket1.utilidad"
   ]
  },
  {
   "cell_type": "code",
   "execution_count": 254,
   "metadata": {},
   "outputs": [
    {
     "name": "stdout",
     "output_type": "stream",
     "text": [
      "Canasta (cerveza=1, ocio=2, ceviche=3)\n"
     ]
    }
   ],
   "source": [
    "print(basket1)"
   ]
  },
  {
   "cell_type": "code",
   "execution_count": 255,
   "metadata": {},
   "outputs": [
    {
     "name": "stdout",
     "output_type": "stream",
     "text": [
      "1.691726385149357\n"
     ]
    }
   ],
   "source": [
    "print (Canasta.utilidad(basket1))"
   ]
  },
  {
   "cell_type": "code",
   "execution_count": 256,
   "metadata": {},
   "outputs": [
    {
     "data": {
      "text/plain": [
       "1.691726385149357"
      ]
     },
     "execution_count": 256,
     "metadata": {},
     "output_type": "execute_result"
    }
   ],
   "source": [
    "Canasta.utilidad(basket1)"
   ]
  },
  {
   "cell_type": "code",
   "execution_count": 257,
   "metadata": {},
   "outputs": [
    {
     "data": {
      "text/plain": [
       "'Las canastas réportan la misma utilidad = True'"
      ]
     },
     "execution_count": 257,
     "metadata": {},
     "output_type": "execute_result"
    }
   ],
   "source": [
    "Canasta.__eq__(basket1,basket2)"
   ]
  },
  {
   "cell_type": "code",
   "execution_count": 258,
   "metadata": {},
   "outputs": [
    {
     "name": "stdout",
     "output_type": "stream",
     "text": [
      "La canasta preferida es =Canasta (cerveza=2, ocio=2, ceviche=2)\n"
     ]
    }
   ],
   "source": [
    "print (Canasta.__lt__(basket1,basket3))"
   ]
  },
  {
   "cell_type": "code",
   "execution_count": 311,
   "metadata": {},
   "outputs": [],
   "source": [
    "#Clase Mensaje Encriptado \n",
    "class Mensaje(object):\n",
    "    \n",
    "    def __init__(self, msg, rot=3):\n",
    "        self.msg = msg\n",
    "        self.rot = rot\n",
    "        \n",
    "    def encriptar(self):\n",
    "        ''' Este método devuelve la cadena encriptada con \n",
    "        cifrado César con rotación rot'''\n",
    "        new_word = \"\"\n",
    "        for i in range(len(self.msg)):\n",
    "            new_word= new_word+chr(ord(self.msg[i])+self.rot)\n",
    "        return Mensaje(new_word)\n",
    "    \n",
    "    def __str__(self):\n",
    "        '''Imprime el mensaje encriptado'''\n",
    "        return (\"El mensaje encriptado es:\" + self.msg)"
   ]
  },
  {
   "cell_type": "code",
   "execution_count": 312,
   "metadata": {},
   "outputs": [
    {
     "name": "stdout",
     "output_type": "stream",
     "text": [
      "El mensaje encriptado es:Krod/#vr|#Glhjr\n"
     ]
    }
   ],
   "source": [
    "msg = Mensaje(\"Hola, soy Diego\")\n",
    "#print(message)\n",
    "print(Mensaje.encriptar(msg))"
   ]
  }
 ],
 "metadata": {
  "kernelspec": {
   "display_name": "Python 3",
   "language": "python",
   "name": "python3"
  },
  "language_info": {
   "codemirror_mode": {
    "name": "ipython",
    "version": 3
   },
   "file_extension": ".py",
   "mimetype": "text/x-python",
   "name": "python",
   "nbconvert_exporter": "python",
   "pygments_lexer": "ipython3",
   "version": "3.7.4"
  }
 },
 "nbformat": 4,
 "nbformat_minor": 2
}
